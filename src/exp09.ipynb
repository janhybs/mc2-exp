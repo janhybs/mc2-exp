{
 "cells": [
  {
   "cell_type": "code",
   "execution_count": 1,
   "metadata": {
    "collapsed": false
   },
   "outputs": [],
   "source": [
    "#!/usr/bin/python\n",
    "# -*- coding: utf-8 -*-\n",
    "# author:   Jan Hybs\n",
    "\n",
    "import sys\n",
    "import math\n",
    "main = sys.modules['__main__']\n",
    "import warnings\n",
    "warnings.filterwarnings('ignore')\n",
    "\n",
    "\n",
    "from tul.flow123d.experiments import Experiment as Exp\n",
    "from tul.flow123d.data.base import D as Data\n",
    "from tul.flow123d.data.base import Norm\n",
    "from tul.flow123d.utils.stats import norm, drop_row, drop_col, drop_outliers, load_data\n",
    "from tul.flow123d.data.preprocessing import ShiftDetection\n",
    "\n",
    "from IPython.display import display, HTML\n",
    "from pluck import pluck\n",
    "\n",
    "import matplotlib.pyplot as plt\n",
    "import matplotlib.patches as patches\n",
    "from   matplotlib.colors import LogNorm\n",
    "import seaborn as sns\n",
    "\n",
    "import pandas as pd\n",
    "import scipy.optimize as op\n",
    "import scipy.stats as st\n",
    "import numpy as np\n",
    "\n",
    "\n",
    "np.set_printoptions(precision=4, suppress=False)\n",
    "np.random.seed(1234)\n",
    "\n",
    "pd.set_option('display.max_rows', 500)\n",
    "pd.set_option('display.max_columns', 500)\n",
    "pd.set_option('display.width', 1000)"
   ]
  },
  {
   "cell_type": "code",
   "execution_count": 2,
   "metadata": {
    "collapsed": false
   },
   "outputs": [
    {
     "data": {
      "text/plain": [
       "Experiment: \n",
       "    cut_count   = 15\n",
       "    version     = 1.1.1\n",
       "    repetition  = 25\n",
       "    normalize   = TEST_MACH\n",
       "    estimate_eq = ae^(c)+be^(m)\n",
       "    xtol        = 1e-07"
      ]
     },
     "metadata": {},
     "output_type": "display_data"
    },
    {
     "data": {
      "text/html": [
       "<div>\n",
       "<table border=\"1\" class=\"dataframe\">\n",
       "  <thead>\n",
       "    <tr style=\"text-align: right;\">\n",
       "      <th></th>\n",
       "      <th>min</th>\n",
       "      <th>mean</th>\n",
       "      <th>max</th>\n",
       "      <th>std</th>\n",
       "    </tr>\n",
       "  </thead>\n",
       "  <tbody>\n",
       "    <tr>\n",
       "      <th>error</th>\n",
       "      <td>0.000075</td>\n",
       "      <td>0.016861</td>\n",
       "      <td>0.131782</td>\n",
       "      <td>0.026984</td>\n",
       "    </tr>\n",
       "  </tbody>\n",
       "</table>\n",
       "</div>"
      ],
      "text/plain": [
       "            min      mean       max       std\n",
       "error  0.000075  0.016861  0.131782  0.026984"
      ]
     },
     "metadata": {},
     "output_type": "display_data"
    }
   ],
   "source": [
    "def estimate_eq0(a,b,c,m):\n",
    "    \"\"\"ae^(c)+be^(m)\"\"\"\n",
    "    return a * math.exp(c) + b * math.exp(m)\n",
    "\n",
    "def estimate_eq1(a,b,c,m):\n",
    "    \"\"\"e^(a+c)+e^(b+m)\"\"\"\n",
    "    return math.exp(a+c) + math.exp(b+m)\n",
    "\n",
    "Data.test_drop   = [\n",
    "     'mem_l1', 'mem_l2', 'mem_l3', \n",
    "     'cpu_simple', 'mmn_s4', 'mem_ll',\n",
    "     'mvs_s1', 'mms_s1', 'mmn_s1',\n",
    "     'cpu_hash', 'cpu_md5'\n",
    "]\n",
    "Data.mach_drop   = [\n",
    "    'exmag',\n",
    "    #'mudrc',\n",
    "    #'ajax',\n",
    "    'luna',\n",
    "]\n",
    "versions         =  '1.1.1', '1.1.2', '1.1.3', '1.1.4', '1.1.5'\n",
    "version          = versions[0]\n",
    "cut_count        = 15\n",
    "repetition       = 25\n",
    "normalize        = Norm.TEST_MACH\n",
    "Data.estimate_eq = estimate_eq0\n",
    "Data.penalty_mult= 1\n",
    "Data.ftol        = 1e-7\n",
    "Data.xtol        = Data.ftol\n",
    "\n",
    "exp = Exp(\n",
    "    (main, 'cut_count'),\n",
    "    (main, 'version'),\n",
    "    (main, 'repetition'),\n",
    "    (main, 'normalize', Norm.find),\n",
    "    (Data, 'estimate_eq', lambda x: x.__doc__),\n",
    "    (Data, 'xtol'),\n",
    ")\n",
    "\n",
    "exp.data      = Data(load_data(version=version), normalize=normalize)\n",
    "exp.baseline  = exp.data.estimate_abcm()\n",
    "exp.estimates = dict()\n",
    "display(exp)\n",
    "display(exp.baseline.stats)"
   ]
  },
  {
   "cell_type": "code",
   "execution_count": 3,
   "metadata": {
    "collapsed": false,
    "scrolled": false
   },
   "outputs": [
    {
     "data": {
      "text/plain": [
       "Experiment: \n",
       "    cut_count   = 15\n",
       "    version     = 1.1.1\n",
       "    repetition  = 25\n",
       "    normalize   = TEST_MACH\n",
       "    estimate_eq = ae^(c)+be^(m)\n",
       "    xtol        = 1e-07"
      ]
     },
     "metadata": {},
     "output_type": "display_data"
    },
    {
     "data": {
      "text/html": [
       "<div>\n",
       "<table border=\"1\" class=\"dataframe\">\n",
       "  <thead>\n",
       "    <tr style=\"text-align: right;\">\n",
       "      <th></th>\n",
       "      <th>min</th>\n",
       "      <th>mean</th>\n",
       "      <th>max</th>\n",
       "      <th>std</th>\n",
       "    </tr>\n",
       "  </thead>\n",
       "  <tbody>\n",
       "    <tr>\n",
       "      <th>error</th>\n",
       "      <td>0.000075</td>\n",
       "      <td>0.016861</td>\n",
       "      <td>0.131782</td>\n",
       "      <td>0.026984</td>\n",
       "    </tr>\n",
       "  </tbody>\n",
       "</table>\n",
       "</div>"
      ],
      "text/plain": [
       "            min      mean       max       std\n",
       "error  0.000075  0.016861  0.131782  0.026984"
      ]
     },
     "metadata": {},
     "output_type": "display_data"
    },
    {
     "data": {
      "text/html": [
       "<div>\n",
       "<table border=\"1\" class=\"dataframe\">\n",
       "  <thead>\n",
       "    <tr style=\"text-align: right;\">\n",
       "      <th></th>\n",
       "      <th>alpha</th>\n",
       "      <th>beta</th>\n",
       "    </tr>\n",
       "  </thead>\n",
       "  <tbody>\n",
       "    <tr>\n",
       "      <th>ref</th>\n",
       "      <td>1.981750e-08</td>\n",
       "      <td>4.313065e-08</td>\n",
       "    </tr>\n",
       "  </tbody>\n",
       "</table>\n",
       "</div>"
      ],
      "text/plain": [
       "            alpha          beta\n",
       "ref  1.981750e-08  4.313065e-08"
      ]
     },
     "metadata": {},
     "output_type": "display_data"
    },
    {
     "data": {
      "text/html": [
       "<div>\n",
       "<table border=\"1\" class=\"dataframe\">\n",
       "  <thead>\n",
       "    <tr style=\"text-align: right;\">\n",
       "      <th></th>\n",
       "      <th>ajax</th>\n",
       "      <th>gram</th>\n",
       "      <th>hildor</th>\n",
       "      <th>mudrc</th>\n",
       "      <th>tarkil</th>\n",
       "    </tr>\n",
       "  </thead>\n",
       "  <tbody>\n",
       "    <tr>\n",
       "      <th>alpha</th>\n",
       "      <td>3.323548e-08</td>\n",
       "      <td>1.703723e-08</td>\n",
       "      <td>1.558205e-08</td>\n",
       "      <td>1.650466e-08</td>\n",
       "      <td>1.672809e-08</td>\n",
       "    </tr>\n",
       "    <tr>\n",
       "      <th>beta</th>\n",
       "      <td>3.128035e-08</td>\n",
       "      <td>5.042361e-08</td>\n",
       "      <td>4.606732e-08</td>\n",
       "      <td>4.532781e-08</td>\n",
       "      <td>4.255415e-08</td>\n",
       "    </tr>\n",
       "  </tbody>\n",
       "</table>\n",
       "</div>"
      ],
      "text/plain": [
       "               ajax          gram        hildor         mudrc        tarkil\n",
       "alpha  3.323548e-08  1.703723e-08  1.558205e-08  1.650466e-08  1.672809e-08\n",
       "beta   3.128035e-08  5.042361e-08  4.606732e-08  4.532781e-08  4.255415e-08"
      ]
     },
     "metadata": {},
     "output_type": "display_data"
    },
    {
     "data": {
      "text/html": [
       "<div>\n",
       "<table border=\"1\" class=\"dataframe\">\n",
       "  <thead>\n",
       "    <tr style=\"text-align: right;\">\n",
       "      <th></th>\n",
       "      <th>mmn_s2</th>\n",
       "      <th>mmn_s3</th>\n",
       "      <th>mms_s2</th>\n",
       "      <th>mms_s3</th>\n",
       "      <th>mms_s4</th>\n",
       "      <th>mvs_s2</th>\n",
       "      <th>mvs_s3</th>\n",
       "      <th>mvs_s4</th>\n",
       "    </tr>\n",
       "  </thead>\n",
       "  <tbody>\n",
       "    <tr>\n",
       "      <th>cpu</th>\n",
       "      <td>9.573483</td>\n",
       "      <td>10.557007</td>\n",
       "      <td>9.789112</td>\n",
       "      <td>9.807772</td>\n",
       "      <td>9.744426</td>\n",
       "      <td>9.624201</td>\n",
       "      <td>9.355630</td>\n",
       "      <td>9.369786</td>\n",
       "    </tr>\n",
       "    <tr>\n",
       "      <th>mem</th>\n",
       "      <td>10.046981</td>\n",
       "      <td>9.479142</td>\n",
       "      <td>10.091648</td>\n",
       "      <td>10.054028</td>\n",
       "      <td>10.056122</td>\n",
       "      <td>10.106245</td>\n",
       "      <td>10.114634</td>\n",
       "      <td>10.146303</td>\n",
       "    </tr>\n",
       "  </tbody>\n",
       "</table>\n",
       "</div>"
      ],
      "text/plain": [
       "        mmn_s2     mmn_s3     mms_s2     mms_s3     mms_s4     mvs_s2     mvs_s3     mvs_s4\n",
       "cpu   9.573483  10.557007   9.789112   9.807772   9.744426   9.624201   9.355630   9.369786\n",
       "mem  10.046981   9.479142  10.091648  10.054028  10.056122  10.106245  10.114634  10.146303"
      ]
     },
     "metadata": {},
     "output_type": "display_data"
    },
    {
     "data": {
      "image/png": "[encoded data removed]",
      "text/plain": [
       "<matplotlib.figure.Figure at 0x7fd62e710b38>"
      ]
     },
     "metadata": {},
     "output_type": "display_data"
    }
   ],
   "source": [
    "%matplotlib inline\n",
    "\n",
    "display(exp)\n",
    "display(exp.baseline.stats)\n",
    "display(exp.baseline.ref_ab)\n",
    "display(exp.baseline.ab)\n",
    "display(exp.baseline.cm)\n",
    "plt.figure(figsize=(10,5))\n",
    "E = exp.baseline.rel_error\n",
    "vmin, vmax = 1e-3, 1e-1\n",
    "sns.heatmap(E, annot=True, fmt=\"1.2f\", cmap='Reds', norm=LogNorm(vmax=vmax, vmin=vmin), vmax=vmax, vmin=vmin);\n",
    "\n",
    "\n",
    "# estimate p and m value when \\pi and \\mu are known\n",
    "\n",
    "import progressbar\n",
    "def estimate_pm(version, repetition, test_data_size, prefix=''):    \n",
    "    \n",
    "    bar = progressbar.ProgressBar(\n",
    "        fd=sys.stdout,\n",
    "        term_width=80,\n",
    "        widgets=[\n",
    "            prefix,\n",
    "            ' [', progressbar.Timer(), '] ',\n",
    "            progressbar.Bar(marker='='),\n",
    "            ' (', progressbar.ETA(), ') ',\n",
    "        ]\n",
    "    )\n",
    "    \n",
    "    exp.estimates[version] = list()\n",
    "    bar.max_value = repetition\n",
    "    with bar:\n",
    "        for i in range(repetition):\n",
    "            bar.update(i)\n",
    "\n",
    "            d = Data(load_data(version=version), normalize=normalize)\n",
    "            \n",
    "            if test_data_size:\n",
    "                d.cut_data(count=test_data_size)\n",
    "            e = d.estimate_cm(exp.baseline.ab)\n",
    "\n",
    "            exp.estimates[version].append(e)\n",
    "\n",
    "def inspect_version(version):\n",
    "    plt.figure(figsize=(15,10))\n",
    "    p_values = np.vstack(pluck(exp.estimates[version], 'c'))\n",
    "    m_values = np.vstack(pluck(exp.estimates[version], 'm'))\n",
    "\n",
    "    for t in range(len(exp.baseline.test_list)):\n",
    "        plt.subplot(3, 4, t+1)\n",
    "        \n",
    "        cpu_std = np.mean(p_values[:, t])\n",
    "        mem_std = np.mean(p_values[:, t])\n",
    "        plt.title('{:} $\\sigma_p$={:1.3f}, $\\sigma_m$={:1.3f} '.format(exp.baseline.test_list[t], cpu_std, mem_std))\n",
    "        sns.distplot(p_values[:, t])\n",
    "        sns.distplot(m_values[:, t])\n",
    "\n",
    "def inspect_version_values(version):\n",
    "    pass"
   ]
  },
  {
   "cell_type": "code",
   "execution_count": 4,
   "metadata": {
    "collapsed": false
   },
   "outputs": [
    {
     "name": "stdout",
     "output_type": "stream",
     "text": [
      "1.1.1 [Elapsed Time: 0:01:21] |===============================| (Time: 0:01:21) \n"
     ]
    },
    {
     "ename": "KeyboardInterrupt",
     "evalue": "",
     "output_type": "error",
     "traceback": [
      "\u001b[0;31m---------------------------------------------------------------------------\u001b[0m",
      "\u001b[0;31mKeyboardInterrupt\u001b[0m                         Traceback (most recent call last)",
      "\u001b[0;32m<ipython-input-4-c746881e78e5>\u001b[0m in \u001b[0;36m<module>\u001b[0;34m()\u001b[0m\n\u001b[1;32m      1\u001b[0m \u001b[0;31m# calculate estimations\u001b[0m\u001b[0;34m\u001b[0m\u001b[0;34m\u001b[0m\u001b[0m\n\u001b[1;32m      2\u001b[0m \u001b[0;32mfor\u001b[0m \u001b[0mversion\u001b[0m \u001b[0;32min\u001b[0m \u001b[0mversions\u001b[0m\u001b[0;34m:\u001b[0m\u001b[0;34m\u001b[0m\u001b[0m\n\u001b[0;32m----> 3\u001b[0;31m     \u001b[0mestimate_pm\u001b[0m\u001b[0;34m(\u001b[0m\u001b[0mversion\u001b[0m\u001b[0;34m,\u001b[0m \u001b[0mrepetition\u001b[0m\u001b[0;34m*\u001b[0m\u001b[0;36m8\u001b[0m\u001b[0;34m,\u001b[0m \u001b[0mcut_count\u001b[0m\u001b[0;34m,\u001b[0m \u001b[0mversion\u001b[0m\u001b[0;34m)\u001b[0m\u001b[0;34m\u001b[0m\u001b[0m\n\u001b[0m",
      "\u001b[0;32m<ipython-input-3-6102d5d5c9b7>\u001b[0m in \u001b[0;36mestimate_pm\u001b[0;34m(version, repetition, test_data_size, prefix)\u001b[0m\n\u001b[1;32m     34\u001b[0m             \u001b[0mbar\u001b[0m\u001b[0;34m.\u001b[0m\u001b[0mupdate\u001b[0m\u001b[0;34m(\u001b[0m\u001b[0mi\u001b[0m\u001b[0;34m)\u001b[0m\u001b[0;34m\u001b[0m\u001b[0m\n\u001b[1;32m     35\u001b[0m \u001b[0;34m\u001b[0m\u001b[0m\n\u001b[0;32m---> 36\u001b[0;31m             \u001b[0md\u001b[0m \u001b[0;34m=\u001b[0m \u001b[0mData\u001b[0m\u001b[0;34m(\u001b[0m\u001b[0mload_data\u001b[0m\u001b[0;34m(\u001b[0m\u001b[0mversion\u001b[0m\u001b[0;34m=\u001b[0m\u001b[0mversion\u001b[0m\u001b[0;34m)\u001b[0m\u001b[0;34m,\u001b[0m \u001b[0mnormalize\u001b[0m\u001b[0;34m=\u001b[0m\u001b[0mnormalize\u001b[0m\u001b[0;34m)\u001b[0m\u001b[0;34m\u001b[0m\u001b[0m\n\u001b[0m\u001b[1;32m     37\u001b[0m \u001b[0;34m\u001b[0m\u001b[0m\n\u001b[1;32m     38\u001b[0m             \u001b[0;32mif\u001b[0m \u001b[0mtest_data_size\u001b[0m\u001b[0;34m:\u001b[0m\u001b[0;34m\u001b[0m\u001b[0m\n",
      "\u001b[0;32m/home/jan-hybs/Dokumenty/projects/article/mc2-exp/src/tul/flow123d/utils/stats.py\u001b[0m in \u001b[0;36mload_data\u001b[0;34m(version)\u001b[0m\n\u001b[1;32m    193\u001b[0m         \u001b[0;32mreturn\u001b[0m \u001b[0mrename_field\u001b[0m\u001b[0;34m.\u001b[0m\u001b[0msub\u001b[0m\u001b[0;34m(\u001b[0m\u001b[0;34mr'\\1'\u001b[0m\u001b[0;34m,\u001b[0m \u001b[0mx\u001b[0m\u001b[0;34m)\u001b[0m\u001b[0;34m\u001b[0m\u001b[0m\n\u001b[1;32m    194\u001b[0m \u001b[0;34m\u001b[0m\u001b[0m\n\u001b[0;32m--> 195\u001b[0;31m     \u001b[0msample\u001b[0m \u001b[0;34m=\u001b[0m \u001b[0mlist\u001b[0m\u001b[0;34m(\u001b[0m\u001b[0mloader\u001b[0m\u001b[0;34m.\u001b[0m\u001b[0mfind_bench\u001b[0m\u001b[0;34m(\u001b[0m\u001b[0mlimit\u001b[0m\u001b[0;34m=\u001b[0m\u001b[0;36m1\u001b[0m\u001b[0;34m)\u001b[0m\u001b[0;34m)\u001b[0m\u001b[0;34m[\u001b[0m\u001b[0;36m0\u001b[0m\u001b[0;34m]\u001b[0m\u001b[0;34m\u001b[0m\u001b[0m\n\u001b[0m\u001b[1;32m    196\u001b[0m     \u001b[0mproject\u001b[0m \u001b[0;34m=\u001b[0m \u001b[0mloader\u001b[0m\u001b[0;34m.\u001b[0m\u001b[0mcreate_project\u001b[0m\u001b[0;34m(\u001b[0m\u001b[0mloader\u001b[0m\u001b[0;34m.\u001b[0m\u001b[0mflatten_dict\u001b[0m\u001b[0;34m(\u001b[0m\u001b[0msample\u001b[0m\u001b[0;34m)\u001b[0m\u001b[0;34m.\u001b[0m\u001b[0mkeys\u001b[0m\u001b[0;34m(\u001b[0m\u001b[0;34m)\u001b[0m\u001b[0;34m,\u001b[0m \u001b[0mmatch_func\u001b[0m\u001b[0;34m,\u001b[0m \u001b[0mrename_func\u001b[0m\u001b[0;34m)\u001b[0m\u001b[0;34m\u001b[0m\u001b[0m\n\u001b[1;32m    197\u001b[0m     \u001b[0;31m# project['hostname'] = '$hostname'\u001b[0m\u001b[0;34m\u001b[0m\u001b[0;34m\u001b[0m\u001b[0m\n",
      "\u001b[0;32m/usr/local/lib/python3.4/dist-packages/pymongo/cursor.py\u001b[0m in \u001b[0;36mnext\u001b[0;34m(self)\u001b[0m\n\u001b[1;32m   1088\u001b[0m             \u001b[0;32mraise\u001b[0m \u001b[0mStopIteration\u001b[0m\u001b[0;34m\u001b[0m\u001b[0m\n\u001b[1;32m   1089\u001b[0m         \u001b[0m_db\u001b[0m \u001b[0;34m=\u001b[0m \u001b[0mself\u001b[0m\u001b[0;34m.\u001b[0m\u001b[0m__collection\u001b[0m\u001b[0;34m.\u001b[0m\u001b[0mdatabase\u001b[0m\u001b[0;34m\u001b[0m\u001b[0m\n\u001b[0;32m-> 1090\u001b[0;31m         \u001b[0;32mif\u001b[0m \u001b[0mlen\u001b[0m\u001b[0;34m(\u001b[0m\u001b[0mself\u001b[0m\u001b[0;34m.\u001b[0m\u001b[0m__data\u001b[0m\u001b[0;34m)\u001b[0m \u001b[0;32mor\u001b[0m \u001b[0mself\u001b[0m\u001b[0;34m.\u001b[0m\u001b[0m_refresh\u001b[0m\u001b[0;34m(\u001b[0m\u001b[0;34m)\u001b[0m\u001b[0;34m:\u001b[0m\u001b[0;34m\u001b[0m\u001b[0m\n\u001b[0m\u001b[1;32m   1091\u001b[0m             \u001b[0;32mif\u001b[0m \u001b[0mself\u001b[0m\u001b[0;34m.\u001b[0m\u001b[0m__manipulate\u001b[0m\u001b[0;34m:\u001b[0m\u001b[0;34m\u001b[0m\u001b[0m\n\u001b[1;32m   1092\u001b[0m                 return _db._fix_outgoing(self.__data.popleft(),\n",
      "\u001b[0;32m/usr/local/lib/python3.4/dist-packages/pymongo/cursor.py\u001b[0m in \u001b[0;36m_refresh\u001b[0;34m(self)\u001b[0m\n\u001b[1;32m   1030\u001b[0m                                              \u001b[0mself\u001b[0m\u001b[0;34m.\u001b[0m\u001b[0m__id\u001b[0m\u001b[0;34m,\u001b[0m\u001b[0;34m\u001b[0m\u001b[0m\n\u001b[1;32m   1031\u001b[0m                                              \u001b[0mself\u001b[0m\u001b[0;34m.\u001b[0m\u001b[0m__codec_options\u001b[0m\u001b[0;34m,\u001b[0m\u001b[0;34m\u001b[0m\u001b[0m\n\u001b[0;32m-> 1032\u001b[0;31m                                              self.__max_await_time_ms))\n\u001b[0m\u001b[1;32m   1033\u001b[0m \u001b[0;34m\u001b[0m\u001b[0m\n\u001b[1;32m   1034\u001b[0m         \u001b[0;32melse\u001b[0m\u001b[0;34m:\u001b[0m  \u001b[0;31m# Cursor id is zero nothing else to return\u001b[0m\u001b[0;34m\u001b[0m\u001b[0m\n",
      "\u001b[0;32m/usr/local/lib/python3.4/dist-packages/pymongo/cursor.py\u001b[0m in \u001b[0;36m__send_message\u001b[0;34m(self, operation)\u001b[0m\n\u001b[1;32m    901\u001b[0m             doc = helpers._unpack_response(response=data,\n\u001b[1;32m    902\u001b[0m                                            \u001b[0mcursor_id\u001b[0m\u001b[0;34m=\u001b[0m\u001b[0mself\u001b[0m\u001b[0;34m.\u001b[0m\u001b[0m__id\u001b[0m\u001b[0;34m,\u001b[0m\u001b[0;34m\u001b[0m\u001b[0m\n\u001b[0;32m--> 903\u001b[0;31m                                            codec_options=self.__codec_options)\n\u001b[0m\u001b[1;32m    904\u001b[0m             \u001b[0;32mif\u001b[0m \u001b[0mfrom_command\u001b[0m\u001b[0;34m:\u001b[0m\u001b[0;34m\u001b[0m\u001b[0m\n\u001b[1;32m    905\u001b[0m                 \u001b[0mhelpers\u001b[0m\u001b[0;34m.\u001b[0m\u001b[0m_check_command_response\u001b[0m\u001b[0;34m(\u001b[0m\u001b[0mdoc\u001b[0m\u001b[0;34m[\u001b[0m\u001b[0;34m'data'\u001b[0m\u001b[0;34m]\u001b[0m\u001b[0;34m[\u001b[0m\u001b[0;36m0\u001b[0m\u001b[0;34m]\u001b[0m\u001b[0;34m)\u001b[0m\u001b[0;34m\u001b[0m\u001b[0m\n",
      "\u001b[0;32m/usr/local/lib/python3.4/dist-packages/pymongo/helpers.py\u001b[0m in \u001b[0;36m_unpack_response\u001b[0;34m(response, cursor_id, codec_options)\u001b[0m\n\u001b[1;32m    140\u001b[0m               \u001b[0;34m\"starting_from\"\u001b[0m\u001b[0;34m:\u001b[0m \u001b[0mstruct\u001b[0m\u001b[0;34m.\u001b[0m\u001b[0munpack\u001b[0m\u001b[0;34m(\u001b[0m\u001b[0;34m\"<i\"\u001b[0m\u001b[0;34m,\u001b[0m \u001b[0mresponse\u001b[0m\u001b[0;34m[\u001b[0m\u001b[0;36m12\u001b[0m\u001b[0;34m:\u001b[0m\u001b[0;36m16\u001b[0m\u001b[0;34m]\u001b[0m\u001b[0;34m)\u001b[0m\u001b[0;34m[\u001b[0m\u001b[0;36m0\u001b[0m\u001b[0;34m]\u001b[0m\u001b[0;34m,\u001b[0m\u001b[0;34m\u001b[0m\u001b[0m\n\u001b[1;32m    141\u001b[0m               \u001b[0;34m\"number_returned\"\u001b[0m\u001b[0;34m:\u001b[0m \u001b[0mstruct\u001b[0m\u001b[0;34m.\u001b[0m\u001b[0munpack\u001b[0m\u001b[0;34m(\u001b[0m\u001b[0;34m\"<i\"\u001b[0m\u001b[0;34m,\u001b[0m \u001b[0mresponse\u001b[0m\u001b[0;34m[\u001b[0m\u001b[0;36m16\u001b[0m\u001b[0;34m:\u001b[0m\u001b[0;36m20\u001b[0m\u001b[0;34m]\u001b[0m\u001b[0;34m)\u001b[0m\u001b[0;34m[\u001b[0m\u001b[0;36m0\u001b[0m\u001b[0;34m]\u001b[0m\u001b[0;34m,\u001b[0m\u001b[0;34m\u001b[0m\u001b[0m\n\u001b[0;32m--> 142\u001b[0;31m               \"data\": bson.decode_all(response[20:], codec_options)}\n\u001b[0m\u001b[1;32m    143\u001b[0m \u001b[0;34m\u001b[0m\u001b[0m\n\u001b[1;32m    144\u001b[0m     \u001b[0;32massert\u001b[0m \u001b[0mlen\u001b[0m\u001b[0;34m(\u001b[0m\u001b[0mresult\u001b[0m\u001b[0;34m[\u001b[0m\u001b[0;34m\"data\"\u001b[0m\u001b[0;34m]\u001b[0m\u001b[0;34m)\u001b[0m \u001b[0;34m==\u001b[0m \u001b[0mresult\u001b[0m\u001b[0;34m[\u001b[0m\u001b[0;34m\"number_returned\"\u001b[0m\u001b[0;34m]\u001b[0m\u001b[0;34m\u001b[0m\u001b[0m\n",
      "\u001b[0;32m/usr/local/lib/python3.4/dist-packages/bson/objectid.py\u001b[0m in \u001b[0;36m__init__\u001b[0;34m(self, oid)\u001b[0m\n\u001b[1;32m     66\u001b[0m     \u001b[0m_type_marker\u001b[0m \u001b[0;34m=\u001b[0m \u001b[0;36m7\u001b[0m\u001b[0;34m\u001b[0m\u001b[0m\n\u001b[1;32m     67\u001b[0m \u001b[0;34m\u001b[0m\u001b[0m\n\u001b[0;32m---> 68\u001b[0;31m     \u001b[0;32mdef\u001b[0m \u001b[0m__init__\u001b[0m\u001b[0;34m(\u001b[0m\u001b[0mself\u001b[0m\u001b[0;34m,\u001b[0m \u001b[0moid\u001b[0m\u001b[0;34m=\u001b[0m\u001b[0;32mNone\u001b[0m\u001b[0;34m)\u001b[0m\u001b[0;34m:\u001b[0m\u001b[0;34m\u001b[0m\u001b[0m\n\u001b[0m\u001b[1;32m     69\u001b[0m         \"\"\"Initialize a new ObjectId.\n\u001b[1;32m     70\u001b[0m \u001b[0;34m\u001b[0m\u001b[0m\n",
      "\u001b[0;31mKeyboardInterrupt\u001b[0m: "
     ]
    }
   ],
   "source": [
    "# calculate estimations\n",
    "for version in versions:\n",
    "    estimate_pm(version, repetition*8, cut_count, version)"
   ]
  },
  {
   "cell_type": "code",
   "execution_count": 5,
   "metadata": {
    "collapsed": false
   },
   "outputs": [
    {
     "ename": "KeyError",
     "evalue": "'1.1.2'",
     "output_type": "error",
     "traceback": [
      "\u001b[0;31m---------------------------------------------------------------------------\u001b[0m",
      "\u001b[0;31mKeyError\u001b[0m                                  Traceback (most recent call last)",
      "\u001b[0;32m<ipython-input-5-d02ab5f31e60>\u001b[0m in \u001b[0;36m<module>\u001b[0;34m()\u001b[0m\n\u001b[1;32m      8\u001b[0m \u001b[0mc\u001b[0m \u001b[0;34m=\u001b[0m \u001b[0mnp\u001b[0m\u001b[0;34m.\u001b[0m\u001b[0mvstack\u001b[0m\u001b[0;34m(\u001b[0m\u001b[0mpluck\u001b[0m\u001b[0;34m(\u001b[0m\u001b[0mexp\u001b[0m\u001b[0;34m.\u001b[0m\u001b[0mestimates\u001b[0m\u001b[0;34m[\u001b[0m\u001b[0mversion\u001b[0m\u001b[0;34m]\u001b[0m\u001b[0;34m,\u001b[0m \u001b[0;34m'm'\u001b[0m\u001b[0;34m)\u001b[0m\u001b[0;34m)\u001b[0m\u001b[0;34m\u001b[0m\u001b[0m\n\u001b[1;32m      9\u001b[0m \u001b[0;32mfor\u001b[0m \u001b[0mv\u001b[0m \u001b[0;32min\u001b[0m \u001b[0mversions\u001b[0m\u001b[0;34m:\u001b[0m\u001b[0;34m\u001b[0m\u001b[0m\n\u001b[0;32m---> 10\u001b[0;31m     \u001b[0mc\u001b[0m \u001b[0;34m=\u001b[0m \u001b[0mnp\u001b[0m\u001b[0;34m.\u001b[0m\u001b[0mvstack\u001b[0m\u001b[0;34m(\u001b[0m\u001b[0;34m(\u001b[0m\u001b[0mc\u001b[0m\u001b[0;34m,\u001b[0m \u001b[0mnp\u001b[0m\u001b[0;34m.\u001b[0m\u001b[0mvstack\u001b[0m\u001b[0;34m(\u001b[0m\u001b[0mpluck\u001b[0m\u001b[0;34m(\u001b[0m\u001b[0mexp\u001b[0m\u001b[0;34m.\u001b[0m\u001b[0mestimates\u001b[0m\u001b[0;34m[\u001b[0m\u001b[0mv\u001b[0m\u001b[0;34m]\u001b[0m\u001b[0;34m,\u001b[0m \u001b[0;34m'm'\u001b[0m\u001b[0;34m)\u001b[0m\u001b[0;34m)\u001b[0m\u001b[0;34m)\u001b[0m\u001b[0;34m)\u001b[0m\u001b[0;34m\u001b[0m\u001b[0m\n\u001b[0m\u001b[1;32m     11\u001b[0m \u001b[0;34m\u001b[0m\u001b[0m\n\u001b[1;32m     12\u001b[0m \u001b[0mc\u001b[0m \u001b[0;34m=\u001b[0m \u001b[0mpd\u001b[0m\u001b[0;34m.\u001b[0m\u001b[0mDataFrame\u001b[0m\u001b[0;34m(\u001b[0m\u001b[0mc\u001b[0m\u001b[0;34m,\u001b[0m \u001b[0mcolumns\u001b[0m\u001b[0;34m=\u001b[0m\u001b[0mexp\u001b[0m\u001b[0;34m.\u001b[0m\u001b[0mbaseline\u001b[0m\u001b[0;34m.\u001b[0m\u001b[0mtest_list\u001b[0m\u001b[0;34m)\u001b[0m\u001b[0;34m\u001b[0m\u001b[0m\n",
      "\u001b[0;31mKeyError\u001b[0m: '1.1.2'"
     ]
    }
   ],
   "source": [
    "%matplotlib inline\n",
    "\n",
    "\n",
    "version = '1.1.1'\n",
    "#estimate_pm(version, repetition*5, cut_count, version)\n",
    "#inspect_version(version)\n",
    "test = 'mms_s3'\n",
    "c = np.vstack(pluck(exp.estimates[version], 'm'))\n",
    "for v in versions:\n",
    "    c = np.vstack((c, np.vstack(pluck(exp.estimates[v], 'm'))))\n",
    "\n",
    "c = pd.DataFrame(c, columns=exp.baseline.test_list)\n",
    "d = c[test].values\n",
    "l = len(d)\n",
    "\n",
    "shift_detect = ShiftDetection(h=30, k=30)\n",
    "shifts = shift_detect.find_shift(d)\n",
    "\n",
    "fig = plt.figure(figsize=(10, 5))\n",
    "shift_detect.plot_find_result(shifts)\n",
    "plt.tight_layout()\n",
    "\n",
    "fig = plt.figure(figsize=(10, 2.5))\n",
    "sns.regplot(np.arange(l), d, fit_reg=0)\n",
    "plt.xlim(0, l)\n",
    "plt.tight_layout()"
   ]
  },
  {
   "cell_type": "code",
   "execution_count": null,
   "metadata": {
    "collapsed": false
   },
   "outputs": [],
   "source": [
    "n = Norm.NONE\n",
    "d1 = Data(load_data('1.1.1'), normalize=n)\n",
    "d2 = Data(load_data('1.1.2'), normalize=n)\n",
    "for m in exp.baseline.mach_list:\n",
    "    for t in exp.baseline.test_list:\n",
    "        print(m, t, '{:1.2f}'.format(np.mean(d1[m, t]) - np.mean(d2[m, t])))"
   ]
  }
 ],
 "metadata": {
  "kernelspec": {
   "display_name": "Python 3",
   "language": "python",
   "name": "python3"
  },
  "language_info": {
   "codemirror_mode": {
    "name": "ipython",
    "version": 3
   },
   "file_extension": ".py",
   "mimetype": "text/x-python",
   "name": "python",
   "nbconvert_exporter": "python",
   "pygments_lexer": "ipython3",
   "version": "3.4.3"
  }
 },
 "nbformat": 4,
 "nbformat_minor": 1
}
